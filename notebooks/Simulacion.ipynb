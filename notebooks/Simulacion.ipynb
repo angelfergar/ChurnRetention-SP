{
  "nbformat": 4,
  "nbformat_minor": 0,
  "metadata": {
    "colab": {
      "provenance": [],
      "authorship_tag": "ABX9TyO0V4RP5s0X7j7+RbhYRUoB"
    },
    "kernelspec": {
      "name": "python3",
      "display_name": "Python 3"
    },
    "language_info": {
      "name": "python"
    }
  },
  "cells": [
    {
      "cell_type": "markdown",
      "source": [
        "# 1. Instalación e importación de bibliotecas"
      ],
      "metadata": {
        "id": "BnSMonvLMIVu"
      }
    },
    {
      "cell_type": "code",
      "source": [
        "!git clone https://github.com/angelfergar/ChurnRetention-SP.git"
      ],
      "metadata": {
        "colab": {
          "base_uri": "https://localhost:8080/"
        },
        "id": "2VRZuHkjw6OY",
        "outputId": "2dfba5c8-a3c0-4121-fe96-c65e5a01b342"
      },
      "execution_count": 2,
      "outputs": [
        {
          "output_type": "stream",
          "name": "stdout",
          "text": [
            "fatal: destination path 'ChurnRetention-SP' already exists and is not an empty directory.\n"
          ]
        }
      ]
    },
    {
      "cell_type": "code",
      "execution_count": 3,
      "metadata": {
        "id": "3rVmtOa2wixe"
      },
      "outputs": [],
      "source": [
        "import zipfile\n",
        "import os\n",
        "\n",
        "import pandas as pd\n",
        "import joblib\n",
        "import numpy as np\n",
        "\n",
        "import xgboost as xgb\n",
        "from pyspark.sql import SparkSession\n",
        "from pyspark.ml.feature import VectorIndexer,VectorAssembler, StringIndexer\n",
        "from pyspark.ml.classification import GBTClassificationModel\n",
        "from pyspark.sql.functions import col, udf\n",
        "from pyspark.ml.linalg import VectorUDT\n",
        "from pyspark.sql.types import DoubleType"
      ]
    },
    {
      "cell_type": "code",
      "source": [
        "# Creamos la sesión de Spark\n",
        "spark = SparkSession.builder.appName('Simulación').getOrCreate()"
      ],
      "metadata": {
        "id": "n8-2vjfUUuua"
      },
      "execution_count": 4,
      "outputs": []
    },
    {
      "cell_type": "code",
      "source": [
        "# Cargamos el dataset y los modelos que usaremos para la simulación\n",
        "dataset_path = '/content/ChurnRetention-SP/data/preprocessed_customerChurn.csv'\n",
        "df = pd.read_csv(dataset_path)\n",
        "\n",
        "# Cargamos el modelo XGBoost\n",
        "model_path = '/content/ChurnRetention-SP/models/best_model.joblib'\n",
        "model = xgb.Booster()\n",
        "model = joblib.load(model_path)\n",
        "\n",
        "# Descomprimir el modelo de Spark antes de cargarlo\n",
        "spark_path = '/content/ChurnRetention-SP/models/best_spark_model.zip'\n",
        "extract_path = '/content/ChurnRetention-SP/models/best_spark_model/'\n",
        "\n",
        "# Descomprimir el modelo si no está extraído\n",
        "if not os.path.exists(extract_path):\n",
        "    with zipfile.ZipFile(spark_path, 'r') as zip_ref:\n",
        "        zip_ref.extractall(extract_path)\n",
        "\n",
        "# Cargamos el GBT Classifier\n",
        "spark_model = GBTClassificationModel.load(extract_path)"
      ],
      "metadata": {
        "id": "hcuSTxV4w1FO"
      },
      "execution_count": 5,
      "outputs": []
    },
    {
      "cell_type": "markdown",
      "source": [
        "# 2. Preparación del dataset"
      ],
      "metadata": {
        "id": "0SlOWbsaMPEl"
      }
    },
    {
      "cell_type": "markdown",
      "source": [
        "Tenemos que eliminar la columna Churn Label, ya que no es útil a la hora de realizar la simulación.\n",
        "\n",
        "También tenemos que crear una columna donde asignaremos la probabilidad que tiene cada cliente de darse de baja en base al modelo entrenado que tenemos. Esto nos permitirá conocer cuantos clientes en riesgo etenemos entre nuestros clientes."
      ],
      "metadata": {
        "id": "Lamw37-SMW1f"
      }
    },
    {
      "cell_type": "code",
      "source": [
        "# Eliminamos la columna de Churn Label para evitar añadir ruido en la simulación\n",
        "df.drop(columns='Churn Label', inplace=True) # ML Estándar"
      ],
      "metadata": {
        "id": "ogexC4yByhLj"
      },
      "execution_count": 6,
      "outputs": []
    },
    {
      "cell_type": "markdown",
      "source": [
        "Una vez tenemos el dataset base listo, podemos crear el dataset que usaremos con el modelo de Spark y vectorizarlo"
      ],
      "metadata": {
        "id": "85rOyzehaT4Q"
      }
    },
    {
      "cell_type": "code",
      "source": [
        "df_spark = spark.createDataFrame(df)\n",
        "\n",
        "feature_columns = [col for col in df.columns if col != 'Churn Label']\n",
        "\n",
        "# Ponemos las features en un solo vector para que puedan ser usadas por modelos de ML de Spark\n",
        "assembler = VectorAssembler(inputCols=feature_columns, outputCol='rawFeatures')\n",
        "df_spark = assembler.transform(df_spark)\n",
        "\n",
        "feature_indexer = VectorIndexer(inputCol='rawFeatures', outputCol='features')\n",
        "df_spark = feature_indexer.fit(df_spark).transform(df_spark)"
      ],
      "metadata": {
        "id": "gyUY2mPKaPxu"
      },
      "execution_count": 7,
      "outputs": []
    },
    {
      "cell_type": "markdown",
      "source": [
        "Una vez tenemos los datasets listos, calculamos la probabilidad de cada cliente individual de darse de baja"
      ],
      "metadata": {
        "id": "aKv9cnSGcBIA"
      }
    },
    {
      "cell_type": "code",
      "source": [
        "# Predecimos la probabilidad de churn y la mostramos en una nueva columna\n",
        "X_actual = df\n",
        "df['Churn_Probability'] = model.predict_proba(X_actual)[:, 1]\n",
        "\n",
        "# Hacemos lo mismo en Spark\n",
        "extract_prob = udf(lambda prob: float(prob[1]), DoubleType())\n",
        "\n",
        "# Generamos las predicciones para cada cliente\n",
        "predictions = spark_model.transform(df_spark)\n",
        "df_pred = predictions.select(extract_prob(col('probability')).alias('Churn_Probability'))"
      ],
      "metadata": {
        "id": "u6AmuvR-yuuA"
      },
      "execution_count": 8,
      "outputs": []
    },
    {
      "cell_type": "markdown",
      "source": [
        "Con la probabilidad calculada, contamos todos aquellos clientes que hayan obtenido por encima de un 60% de probabilidad de darse de baja. Estos serán nuestros clientes en riesgo"
      ],
      "metadata": {
        "id": "IZriozuhcIQ8"
      }
    },
    {
      "cell_type": "code",
      "source": [
        "# Definimos el umbral a partir del cual consideramos como un Cliente en riesgo\n",
        "df_riesgo = df[df['Churn_Probability'] > 0.6]\n",
        "print(f'Clientes en riesgo detectados con el modelo de XGBoost: {len(df_riesgo)}')\n",
        "\n",
        "# Hacemos los mismo con Spark\n",
        "df_riesgo_spark = df_pred.filter(col(\"Churn_Probability\") > 0.6)\n",
        "print(f'Clientes en riesgo detectados con el modelo GBT Classifier (Spark): {df_riesgo_spark.count()}')"
      ],
      "metadata": {
        "colab": {
          "base_uri": "https://localhost:8080/"
        },
        "id": "giRy5kN3zcJG",
        "outputId": "bd07364b-a4a8-40b9-aee2-f2a6c1dd844f"
      },
      "execution_count": 9,
      "outputs": [
        {
          "output_type": "stream",
          "name": "stdout",
          "text": [
            "Clientes en riesgo detectados con el modelo de XGBoost: 1742\n",
            "Clientes en riesgo detectados con el modelo GBT Classifier (Spark): 2067\n"
          ]
        }
      ]
    },
    {
      "cell_type": "markdown",
      "source": [
        "Obtemos que de los 7043 clientes que aparecen en el dataset:\n",
        "\n",
        "*   El modelo XGBoost predice que hay 1742 clientes en riesgo de darse de baja\n",
        "*   El modelo GBT Classifier de Spark predice que hay 2067 clientes en riesgo de darse de baja\n"
      ],
      "metadata": {
        "id": "uHP8nvC7M7gk"
      }
    },
    {
      "cell_type": "markdown",
      "source": [
        "# 3. Simulación"
      ],
      "metadata": {
        "id": "Dwqd8vWXMS1-"
      }
    },
    {
      "cell_type": "markdown",
      "source": [
        "En esta simulación tenemos como objetivo conocer cómo impactaría una mejora que supusiese un incremento en la retención de clientes. Para ello obtendremos:\n",
        "\n",
        "\n",
        "1.   Los clientes potenciales que retenemos una vez se aplica la mejora\n",
        "2.   El ahorro que supone para la empresa esta retención de usuarios\n",
        "\n"
      ],
      "metadata": {
        "id": "IBx3R0UwNFsE"
      }
    },
    {
      "cell_type": "code",
      "source": [
        "# Parámetros de simulación\n",
        "total_clientes = len(df) #Usamos esta variable para ambas simulaciones, ya que es el mismo número\n",
        "tasa_churn_actual = 0.265  # Churn base (26.5%) - Contamos con este dato de antemano\n",
        "clientes_perdidos_actual = int(total_clientes * tasa_churn_actual)"
      ],
      "metadata": {
        "id": "LDzXqufGwm_3"
      },
      "execution_count": 10,
      "outputs": []
    },
    {
      "cell_type": "markdown",
      "source": [
        "Establecemos el contexto financiero con el que trabajamos"
      ],
      "metadata": {
        "id": "39lMZBqDddyr"
      }
    },
    {
      "cell_type": "code",
      "source": [
        "# Supuestos financieros\n",
        "ingreso_mensual_promedio = 50  # Supongamos que cada cliente aporta 50€/mes\n",
        "costo_adquisicion_cliente = 300  # El supuesto coste de adquirir un nuevo cliente es de 300€"
      ],
      "metadata": {
        "id": "0ZhEBzk6dSSs"
      },
      "execution_count": 11,
      "outputs": []
    },
    {
      "cell_type": "markdown",
      "source": [
        "Calculamos la situacióne económica actual sin haber aplicado ninguna estrategia de retención de clientes"
      ],
      "metadata": {
        "id": "29_DdV1Ndhqv"
      }
    },
    {
      "cell_type": "code",
      "source": [
        "# Escenario sin intervención\n",
        "perdida_actual = clientes_perdidos_actual * ingreso_mensual_promedio * 12\n",
        "coste_reemplazo_clientes = clientes_perdidos_actual * costo_adquisicion_cliente\n",
        "perdida_total_actual = perdida_actual + coste_reemplazo_clientes"
      ],
      "metadata": {
        "id": "iupT4RTwdcbe"
      },
      "execution_count": 12,
      "outputs": []
    },
    {
      "cell_type": "code",
      "source": [
        "print(f'Clientes perdidos sin aplicar ninguna estrategia: {clientes_perdidos_actual}')\n",
        "print(f'Pérdida total sin intervención: {perdida_total_actual:,.2f}€') # La cantidad que perdemos sin aplicar ninguna estrategia"
      ],
      "metadata": {
        "colab": {
          "base_uri": "https://localhost:8080/"
        },
        "id": "547Iolh8NvRi",
        "outputId": "3401ba09-d066-4f82-9982-fd9068a1c8b0"
      },
      "execution_count": 13,
      "outputs": [
        {
          "output_type": "stream",
          "name": "stdout",
          "text": [
            "Clientes perdidos sin aplicar ninguna estrategia: 1866\n",
            "Pérdida total sin intervención: 1,679,400.00€\n"
          ]
        }
      ]
    },
    {
      "cell_type": "markdown",
      "source": [
        "## 3.1 Simulación modelo estándar"
      ],
      "metadata": {
        "id": "f0PgLzpYc3fy"
      }
    },
    {
      "cell_type": "code",
      "source": [
        "# Impacto de estrategias de retención\n",
        "retencion_estrategia = 0.35  # Supongamos que retenemos el 55% con una mejora de la Fibra Óptica\n",
        "\n",
        "# Obtenemos el número de clientes que mantendríamos con estas mejoras\n",
        "clientes_rescatados = int(len(df_riesgo) * retencion_estrategia)"
      ],
      "metadata": {
        "id": "Vk8dD0H10V4e"
      },
      "execution_count": 14,
      "outputs": []
    },
    {
      "cell_type": "code",
      "source": [
        "# Suponemos que la mejora de la fibra no tiene coste extra significativo y obtenemos el ahorro que nos da esta mejora\n",
        "ahorro_fibra = clientes_rescatados * ingreso_mensual_promedio * 12"
      ],
      "metadata": {
        "id": "Vg1n1Ces1HkW"
      },
      "execution_count": 15,
      "outputs": []
    },
    {
      "cell_type": "code",
      "source": [
        "# Mostramos los beneficios de la aplicación de la estrategia de retención\n",
        "print(f'Clientes en riesgo retenidos con estrategia (Fibra Óptica): {clientes_rescatados}')\n",
        "print(f'Ahorro con estrategia de fibra óptica: {ahorro_fibra:,.2f}€')"
      ],
      "metadata": {
        "colab": {
          "base_uri": "https://localhost:8080/"
        },
        "id": "LlcQiakZ1ZAt",
        "outputId": "6cdc4de0-d8ea-4757-e8bd-39b6c075c60d"
      },
      "execution_count": 16,
      "outputs": [
        {
          "output_type": "stream",
          "name": "stdout",
          "text": [
            "Clientes en riesgo retenidos con estrategia (Fibra Óptica): 609\n",
            "Ahorro con estrategia de fibra óptica: 365,400.00€\n"
          ]
        }
      ]
    },
    {
      "cell_type": "markdown",
      "source": [
        "## 3.2 Simulación modelo Spark"
      ],
      "metadata": {
        "id": "XeTtTjnhc_e9"
      }
    },
    {
      "cell_type": "code",
      "source": [
        "# Impacto de estrategias de retención\n",
        "retencion_estrategia_s = 0.35  # Supongamos que retenemos el 55% con una mejora de la Fibra Óptica\n",
        "\n",
        "# Obtenemos el número de clientes que mantendríamos con estas mejoras\n",
        "clientes_rescatados_s = int((df_riesgo_spark.count()) * retencion_estrategia)"
      ],
      "metadata": {
        "id": "MPqXoQPMc-_y"
      },
      "execution_count": 17,
      "outputs": []
    },
    {
      "cell_type": "code",
      "source": [
        "# Suponemos que la mejora de la fibra no tiene coste extra significativo y obtenemos el ahorro que nos da esta mejora\n",
        "ahorro_fibra_s = clientes_rescatados_s * ingreso_mensual_promedio * 12"
      ],
      "metadata": {
        "id": "b5lLh5rDd5ig"
      },
      "execution_count": 18,
      "outputs": []
    },
    {
      "cell_type": "code",
      "source": [
        "# Mostramos los clientes que se podrían retener con la mejora\n",
        "print(f'Clientes en riesgo retenidos con estrategia (Fibra Óptica): {clientes_rescatados_s}')\n",
        "print(f'Ahorro con estrategia de fibra óptica: {ahorro_fibra_s:,.2f}€')"
      ],
      "metadata": {
        "colab": {
          "base_uri": "https://localhost:8080/"
        },
        "id": "QaRKL09VdLxW",
        "outputId": "2ca6f567-8a85-4672-ea00-423b6e9a5e06"
      },
      "execution_count": 19,
      "outputs": [
        {
          "output_type": "stream",
          "name": "stdout",
          "text": [
            "Clientes en riesgo retenidos con estrategia (Fibra Óptica): 723\n",
            "Ahorro con estrategia de fibra óptica: 433,800.00€\n"
          ]
        }
      ]
    },
    {
      "cell_type": "markdown",
      "source": [
        "## Resultados finales"
      ],
      "metadata": {
        "id": "OTtxwSoceEYK"
      }
    },
    {
      "cell_type": "markdown",
      "source": [
        "Inicialmente, el contexto en el que se trataba era:\n",
        "\n",
        "\n",
        "*   1866 clientes perdidos\n",
        "*   Pérdidas 1,679,400.00€ debido a la cantidad de clientes perdidos y el coste de adquisición de nuevos clientes\n",
        "\n"
      ],
      "metadata": {
        "id": "l_lBP_QieJMH"
      }
    },
    {
      "cell_type": "markdown",
      "source": [
        "Utilizando los modelo de machine learning que se han entrenado (Estándar y Spark), se simula una situación en la que se **incrementa la retención de los clientes un 35% al mejorar el servicio de fibra óptica** (Uno de los puntos clave a la hora de que se den de baja los clientes).\n",
        "\n",
        "Los resultados de esta mejora según el modelo de machine learning estándar se traducen en:\n",
        "\n",
        "*   **609 clientes retenidos**\n",
        "*   **Un ahorro de 365,400.00€** gracias a la retención de clientes\n",
        "\n",
        "Por su parte, el modelo de Spark entrenado muestra que:\n",
        "\n",
        "*   **Se retienen 723 clientes**\n",
        "*   La retención de clientes se transforma en un **ahorro de 433,800.00€**\n",
        "\n",
        "\n",
        "\n",
        "\n"
      ],
      "metadata": {
        "id": "yvwymnESebDE"
      }
    },
    {
      "cell_type": "markdown",
      "source": [
        "Este sistema se puede aplicar con otras estrategias de retención, siendo modular y fácilmente modificable"
      ],
      "metadata": {
        "id": "7q9YAvGTOLni"
      }
    }
  ]
}