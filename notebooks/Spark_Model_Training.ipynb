{
  "nbformat": 4,
  "nbformat_minor": 0,
  "metadata": {
    "colab": {
      "provenance": [],
      "authorship_tag": "ABX9TyN5bTyXfc0+eGpiocuOAtfD"
    },
    "kernelspec": {
      "name": "python3",
      "display_name": "Python 3"
    },
    "language_info": {
      "name": "python"
    }
  },
  "cells": [
    {
      "cell_type": "markdown",
      "source": [
        "# 1. Instalación e importación de bibliotecas"
      ],
      "metadata": {
        "id": "Wq80v8VEWC5j"
      }
    },
    {
      "cell_type": "code",
      "execution_count": 1,
      "metadata": {
        "colab": {
          "base_uri": "https://localhost:8080/"
        },
        "id": "wzPjplszV6Np",
        "outputId": "a90553e1-17e1-4b9e-f2b1-0bcefc5bf1f1"
      },
      "outputs": [
        {
          "output_type": "stream",
          "name": "stdout",
          "text": [
            "Cloning into 'ChurnRetention-SP'...\n",
            "remote: Enumerating objects: 74, done.\u001b[K\n",
            "remote: Counting objects: 100% (74/74), done.\u001b[K\n",
            "remote: Compressing objects: 100% (66/66), done.\u001b[K\n",
            "remote: Total 74 (delta 31), reused 26 (delta 7), pack-reused 0 (from 0)\u001b[K\n",
            "Receiving objects: 100% (74/74), 2.68 MiB | 5.09 MiB/s, done.\n",
            "Resolving deltas: 100% (31/31), done.\n"
          ]
        }
      ],
      "source": [
        "!git clone https://github.com/angelfergar/ChurnRetention-SP.git"
      ]
    },
    {
      "cell_type": "code",
      "source": [
        "import numpy as np\n",
        "import pandas as pd\n",
        "import matplotlib\n",
        "import matplotlib.pyplot as plt\n",
        "import seaborn as sns\n",
        "\n",
        "from imblearn.pipeline import Pipeline\n",
        "from imblearn.over_sampling import SMOTE\n",
        "from imblearn.under_sampling import RandomUnderSampler\n",
        "\n",
        "from sklearn.metrics import confusion_matrix\n",
        "\n",
        "from pyspark.sql import SparkSession\n",
        "from pyspark.ml.feature import VectorIndexer,VectorAssembler\n",
        "from pyspark.ml.feature import StringIndexer\n",
        "from pyspark.ml.classification import DecisionTreeClassifier as DTSpark\n",
        "from pyspark.ml.classification import RandomForestClassifier as RFSpark\n",
        "from pyspark.ml.classification import GBTClassifier\n",
        "from pyspark.ml.evaluation import BinaryClassificationEvaluator, MulticlassClassificationEvaluator\n",
        "from pyspark.ml.tuning import CrossValidator, ParamGridBuilder"
      ],
      "metadata": {
        "id": "pQl4rdrxWOp2"
      },
      "execution_count": 24,
      "outputs": []
    },
    {
      "cell_type": "code",
      "source": [
        "dataset_path = '/content/ChurnRetention-SP/data/preprocessed_customerChurn.csv'\n",
        "df = pd.read_csv(dataset_path)"
      ],
      "metadata": {
        "id": "hafvHbwyWpLv"
      },
      "execution_count": 5,
      "outputs": []
    },
    {
      "cell_type": "markdown",
      "source": [
        "# 2. Equilibrado de datos"
      ],
      "metadata": {
        "id": "GeqESmN5WgXy"
      }
    },
    {
      "cell_type": "markdown",
      "source": [
        "Creamos los dataset que usaremos para el entrenamiento de los modelos"
      ],
      "metadata": {
        "id": "4LXeDHfwWhnb"
      }
    },
    {
      "cell_type": "code",
      "source": [
        "df_X = df.drop('Churn Label', axis=1)\n",
        "df_y = df['Churn Label']"
      ],
      "metadata": {
        "id": "0LaC1u1dXWnF"
      },
      "execution_count": 6,
      "outputs": []
    },
    {
      "cell_type": "code",
      "source": [
        "features = df_X.columns.tolist()\n",
        "label = 'Churn Label'\n",
        "\n",
        "spark_x = df[features]\n",
        "spark_y = df[label]"
      ],
      "metadata": {
        "id": "o1IO5g1cWldV"
      },
      "execution_count": 7,
      "outputs": []
    },
    {
      "cell_type": "markdown",
      "source": [
        "Aumentamos de forma sintética la clase minoritaria un 65% y reduce la clase mayoritaria en un 25% (Se llega a estas cifras a base de prueba y error). De esta forma, pasamos de tener una proporción de 3:1 a una de 1.25 sin introducir un exceso de ruido que pueda provocar overfitting en el modelo ni perder una gran cantidad de datos."
      ],
      "metadata": {
        "id": "GyemDk6YWz6O"
      }
    },
    {
      "cell_type": "code",
      "source": [
        "smote = SMOTE(sampling_strategy=0.6)\n",
        "under = RandomUnderSampler(sampling_strategy=0.8)\n",
        "\n",
        "# Creamos un pipeline para aplicar ambas técnicas a la vez\n",
        "pipeline = Pipeline([('smote', smote), ('under', under)])\n",
        "\n",
        "# Obtenemos dos nuevos datasets con los datos equilibrados\n",
        "X_resampled, y_resampled = pipeline.fit_resample(spark_x, spark_y)\n",
        "\n",
        "# Creamos el dataframe que pasaremos a Spark\n",
        "df_spark = pd.DataFrame(X_resampled, columns=features)\n",
        "df_spark[label] = y_resampled"
      ],
      "metadata": {
        "id": "o39L6z8AW0Va"
      },
      "execution_count": 8,
      "outputs": []
    },
    {
      "cell_type": "markdown",
      "source": [
        "# 3. Preparación de Spark"
      ],
      "metadata": {
        "id": "3DR4rodRXhKS"
      }
    },
    {
      "cell_type": "markdown",
      "source": [
        "Lo primero que haremos para trabajar con Spark es iniciar una sesión."
      ],
      "metadata": {
        "id": "yVQ22cHwXjnp"
      }
    },
    {
      "cell_type": "code",
      "source": [
        "spark = SparkSession.builder.appName('ChurnRetention-SP').getOrCreate()\n",
        "\n",
        "spark_df = spark.createDataFrame(df_spark)"
      ],
      "metadata": {
        "id": "4L7xXPRiXtoA"
      },
      "execution_count": 9,
      "outputs": []
    },
    {
      "cell_type": "markdown",
      "source": [
        "A continuación, transformamos los datos en un formato que sea compatible para Spark. Se necesitan que las columnas estén en una única columna de tipo Vector."
      ],
      "metadata": {
        "id": "mhhWPf5UX5wz"
      }
    },
    {
      "cell_type": "code",
      "source": [
        "feature_columns = [col for col in df_spark.columns if col != 'Churn Label']\n",
        "label_column = 'Churn Label'\n",
        "\n",
        "# Ponemos las features en un solo vector para que puedan ser usadas por modelos de ML de Spark\n",
        "assembler = VectorAssembler(inputCols=feature_columns, outputCol='rawFeatures')\n",
        "spark_df = assembler.transform(spark_df)\n",
        "\n",
        "feature_indexer = VectorIndexer(inputCol='rawFeatures', outputCol='features')\n",
        "spark_df = feature_indexer.fit(spark_df).transform(spark_df)\n",
        "\n",
        "# Convertimos la label en índices numéricos para su uso en el modelo de Spark\n",
        "label_indexer = StringIndexer(inputCol=label_column, outputCol='indexedLabel')\n",
        "spark_df = label_indexer.fit(spark_df).transform(spark_df)"
      ],
      "metadata": {
        "id": "rTYiLK4OX7xW"
      },
      "execution_count": 10,
      "outputs": []
    },
    {
      "cell_type": "markdown",
      "source": [
        "El último paso previo al entrenamiento de los modelos es obtener los dataFrames de test y train."
      ],
      "metadata": {
        "id": "lWhJxcQ0YkKr"
      }
    },
    {
      "cell_type": "code",
      "source": [
        "train_df, test_df = spark_df.randomSplit([0.7, 0.3])"
      ],
      "metadata": {
        "id": "pqUTsvAoYsGE"
      },
      "execution_count": 11,
      "outputs": []
    },
    {
      "cell_type": "markdown",
      "source": [
        "# 4. Entrenamiento de los modelos"
      ],
      "metadata": {
        "id": "hE0MdhVxZKmi"
      }
    },
    {
      "cell_type": "markdown",
      "source": [
        "En este apartado vamos a trabajar con tres de los modelos incluídos en la librería de MLlib de Spark: **Decision Tree, Random Forest y GBTClassifier**.\n",
        "\n",
        "Al ser una introducción al escalado a Spark del proyecto realizado, no entraremos tan en detalle en las métricas como en el notebook de ML estándar. Aún así, es importante mencionar que nos centraremos en la métrica del **F1-Score**, tal como se hizo en el notebook de Model_Training. Esto se debe a que contamos con un dataset desequilibrado, y al haber aplicado técnicas de equilibrado.\n",
        "\n",
        "También usaremos la **Matriz de Confusión**, **AUC ROC** y **Precision-Recall** para sacar más información sobre cada uno de los modelos, así como la **importancia de las features** a la hora de determinar las clases.\n",
        "\n",
        "Finalmente, aplicaremos métodos de **fine tuning** propios de Spark para incrementar la efectividad del mejor modelo entrenado."
      ],
      "metadata": {
        "id": "IW6ukCooZNfu"
      }
    },
    {
      "cell_type": "markdown",
      "source": [
        "Crearemos una serie de funciones para poder reutilizar código y mostrar más fácilmente todo el reporte de cada uno de los modelos. El primer paso será entrenar el modelo y mostrar las features que más impactan a la hora de predecir el Churn"
      ],
      "metadata": {
        "id": "cQG_y8Nravb8"
      }
    },
    {
      "cell_type": "code",
      "source": [
        "# Con esta función entrenamos el modelo y obtenemos predicciones\n",
        "def train_model(model_type, train_df, test_df):\n",
        "    model = model_type.fit(train_df)\n",
        "    pred = model.transform(test_df)\n",
        "    return model, pred"
      ],
      "metadata": {
        "id": "JmLszzPOaxUR"
      },
      "execution_count": 15,
      "outputs": []
    },
    {
      "cell_type": "code",
      "source": [
        "# Obtenemos la importancia de las diferentes features\n",
        "def importance_features(model, feature_columns):\n",
        "    feature_importance = model.featureImportances\n",
        "    # Coleccionamos las features y las ordenamos\n",
        "    feature_importance_dict = {feature: importance for feature, importance in zip(feature_columns, feature_importance)}\n",
        "    sorted_features = sorted(feature_importance_dict.items(), key=lambda x: x[1], reverse=True)\n",
        "\n",
        "    # Mostramos las 10 features más importantes\n",
        "    print('Feature más importantes:')\n",
        "    for feature, importance in sorted_features[:10]:\n",
        "        print(f'{feature}: {importance:.4f}')"
      ],
      "metadata": {
        "id": "0cNazYpIbzze"
      },
      "execution_count": 58,
      "outputs": []
    },
    {
      "cell_type": "markdown",
      "source": [
        "Las siguientes funciones se usarán para mostrar información sobre las métricas. Obtenemos Precision, Recall, F1-Score, y AUC ROC y AUC Precision-Recall"
      ],
      "metadata": {
        "id": "xnbsMZ2sc9ZR"
      }
    },
    {
      "cell_type": "code",
      "source": [
        "def get_metrics(predictions, label_col='indexedLabel'):\n",
        "    # Preparamos los evaluadores de cada una de las métricas (Precision, Recall, F1-Score)\n",
        "    precision_evaluator = MulticlassClassificationEvaluator(labelCol=label_col, predictionCol='prediction', metricName='precisionByLabel')\n",
        "    recall_evaluator = MulticlassClassificationEvaluator(labelCol=label_col, predictionCol='prediction', metricName='recallByLabel')\n",
        "    f1_evaluator = MulticlassClassificationEvaluator(labelCol=label_col, predictionCol='prediction', metricName='f1')\n",
        "\n",
        "    # En este caso tenemos que dividir precision y recall en dos, ya que se nos dan los valores para ambas clases originalmente\n",
        "    precision_0 = precision_evaluator.evaluate(predictions, {precision_evaluator.metricLabel: 0})\n",
        "    precision_1 = precision_evaluator.evaluate(predictions, {precision_evaluator.metricLabel: 1})\n",
        "    recall_0 = recall_evaluator.evaluate(predictions, {recall_evaluator.metricLabel: 0})\n",
        "    recall_1 = recall_evaluator.evaluate(predictions, {recall_evaluator.metricLabel: 1})\n",
        "    f1_score = f1_evaluator.evaluate(predictions)\n",
        "\n",
        "    print(f'''\n",
        "        Precision Retained: {precision_0:.2f}\\n\n",
        "        Precision Churned: {precision_1:.2f}\\n\n",
        "        Recall Retained: {recall_0:.2f}\\n\n",
        "        Recall Churned: {recall_1:.2f}\\n\n",
        "        F1 Score: {f1_score:.2f}'''\n",
        "    )"
      ],
      "metadata": {
        "id": "-AA51u7bdDBN"
      },
      "execution_count": 40,
      "outputs": []
    },
    {
      "cell_type": "code",
      "source": [
        "def auc_metrics(predictions, label_col='indexedLabel'):\n",
        "    # Configuramos los evaluadores del AUC ROC y AUC Precision-Recall\n",
        "    auc_evaluator = BinaryClassificationEvaluator(labelCol=label_col, metricName='areaUnderROC')\n",
        "    auc_pr_evaluator = BinaryClassificationEvaluator(labelCol=label_col, metricName='areaUnderPR')\n",
        "\n",
        "    auc_roc = auc_evaluator.evaluate(predictions)\n",
        "    auc_pr = auc_pr_evaluator.evaluate(predictions)\n",
        "\n",
        "    print(f'''\n",
        "        AUC ROC:  {auc_roc}\\n\n",
        "        AUC Precision-Recall: {auc_pr}'''\n",
        "    )"
      ],
      "metadata": {
        "id": "2pC5bNRifX6G"
      },
      "execution_count": 23,
      "outputs": []
    },
    {
      "cell_type": "markdown",
      "source": [
        "Y finalmente, preparamos la función que usaremos para mostrar la matriz de confusión"
      ],
      "metadata": {
        "id": "ieEE2ypsgSEc"
      }
    },
    {
      "cell_type": "code",
      "source": [
        "def show_conf_matrix(predictions):\n",
        "  predictions_pd = predictions.select('prediction', 'indexedLabel').toPandas()\n",
        "\n",
        "  x_true = predictions_pd['indexedLabel'].values\n",
        "  y_pred = predictions_pd['prediction'].values\n",
        "\n",
        "  conf_matrix_rf_s = confusion_matrix(x_true, y_pred)\n",
        "\n",
        "  plt.figure(figsize=(12, 6))\n",
        "  sns.heatmap(conf_matrix_rf_s, annot=True, fmt='d', cmap='Greens', xticklabels=['Retained', 'Churned'], yticklabels=['Retained', 'Churned']);\n",
        "  plt.ylabel('Etiquetas Verdaderas')\n",
        "  plt.xlabel('Predicciones')\n",
        "  plt.title('Matriz de Confusión - Spark')\n",
        "  plt.show()"
      ],
      "metadata": {
        "id": "9o3WgX1dgXnh"
      },
      "execution_count": 26,
      "outputs": []
    },
    {
      "cell_type": "markdown",
      "source": [
        "Con todas estas funciones obtendremos un reporte completo sobre cada uno de los modelos que contenga:\n",
        "\n",
        "* **Entrenar un modelo**\n",
        "* **Obtener las features que más peso tienen a la hora de predecir el Churn**\n",
        "* **Mostrar la Matriz de Confusión**\n",
        "* **Obtener las métricas de AUC de ROC y Precision-Recall Curve**"
      ],
      "metadata": {
        "id": "0DgpUcNLhVlG"
      }
    },
    {
      "cell_type": "code",
      "source": [
        "# Establecemos los parámetros para los modelos\n",
        "dt_model = DTSpark(labelCol='indexedLabel', featuresCol='features',  maxDepth = 15, minInstancesPerNode=1, maxBins = 16, minInfoGain = 0.01) # Decision Tree"
      ],
      "metadata": {
        "id": "Biw5IypAhx9i"
      },
      "execution_count": 29,
      "outputs": []
    },
    {
      "cell_type": "markdown",
      "source": [
        "## 4.1 Decision Tree"
      ],
      "metadata": {
        "id": "ezYJWF8ag39G"
      }
    },
    {
      "cell_type": "markdown",
      "source": [
        "El primer modelo que desarrollaremos es el de Decision Tree. Se usará como baseline para comparar con el resto de modelos, identificar posibles puntos de mejora general."
      ],
      "metadata": {
        "id": "cUNlARy7g6nN"
      }
    },
    {
      "cell_type": "markdown",
      "source": [
        "### 4.1.1 Entrenamiento y feature_importance"
      ],
      "metadata": {
        "id": "VPMKoZWDg-3L"
      }
    },
    {
      "cell_type": "code",
      "source": [
        "# Entrenamos el modelo y obtenemos predicciones\n",
        "model_dt, predictions_dt = train_model(dt_model, train_df, test_df)"
      ],
      "metadata": {
        "id": "hoZX-TaghDkN"
      },
      "execution_count": 31,
      "outputs": []
    },
    {
      "cell_type": "code",
      "source": [
        "# Obtenemos las métricas de Precision, Recall y F1-Score\n",
        "get_metrics(predictions_dt)"
      ],
      "metadata": {
        "colab": {
          "base_uri": "https://localhost:8080/"
        },
        "id": "HNlLA3Qsh__t",
        "outputId": "ae51e013-2d95-462f-9355-7318ee6f2c1b"
      },
      "execution_count": 41,
      "outputs": [
        {
          "output_type": "stream",
          "name": "stdout",
          "text": [
            "\n",
            "        Precision Retained: 0.83\n",
            "\n",
            "        Precision Churned: 0.73\n",
            "\n",
            "        Recall Retained: 0.77\n",
            "\n",
            "        Recall Churned: 0.80\n",
            "\n",
            "        F1 Score: 0.78\n"
          ]
        }
      ]
    },
    {
      "cell_type": "code",
      "source": [
        "# Mostramos en orden las features más importantes\n",
        "importance_features(model_dt, feature_columns)"
      ],
      "metadata": {
        "colab": {
          "base_uri": "https://localhost:8080/"
        },
        "id": "8TP4cwKjilJX",
        "outputId": "c14d2a36-9a0d-41fc-b64c-4117c472d752"
      },
      "execution_count": 59,
      "outputs": [
        {
          "output_type": "stream",
          "name": "stdout",
          "text": [
            "Feature más importantes:\n",
            "Contract_Two year: 0.2609\n",
            "Contract_One year: 0.1980\n",
            "Tenure Months: 0.1098\n",
            "Dependents: 0.0802\n",
            "Monthly Charges: 0.0552\n",
            "Internet Service_Fiber optic: 0.0534\n",
            "Partner: 0.0239\n",
            "Total Charges: 0.0232\n",
            "Online Security_Yes: 0.0225\n",
            "Paperless Billing: 0.0222\n"
          ]
        }
      ]
    },
    {
      "cell_type": "markdown",
      "source": [
        "CONCLUSIONES"
      ],
      "metadata": {
        "id": "hgU1ItqsmJnv"
      }
    },
    {
      "cell_type": "markdown",
      "source": [
        "### 4.1.2 Matriz de confusión"
      ],
      "metadata": {
        "id": "CnS_bOxPmT4y"
      }
    },
    {
      "cell_type": "code",
      "source": [
        "show_conf_matrix(predictions_dt)"
      ],
      "metadata": {
        "colab": {
          "base_uri": "https://localhost:8080/",
          "height": 565
        },
        "id": "t2MbrNRHmXff",
        "outputId": "d62a92e4-c5f6-416a-85d6-7c3ce8106112"
      },
      "execution_count": 60,
      "outputs": [
        {
          "output_type": "display_data",
          "data": {
            "text/plain": [
              "<Figure size 1200x600 with 2 Axes>"
            ],
            "image/png": "[encoded data removed]"
          },
          "metadata": {}
        }
      ]
    },
    {
      "cell_type": "markdown",
      "source": [
        "CONCLUSIONES"
      ],
      "metadata": {
        "id": "dor4qobJmdM9"
      }
    },
    {
      "cell_type": "markdown",
      "source": [
        "### 4.1.3 AUC ROC y Precision-Recall"
      ],
      "metadata": {
        "id": "399igPBEmfzy"
      }
    },
    {
      "cell_type": "code",
      "source": [
        "auc_metrics(predictions_dt)"
      ],
      "metadata": {
        "colab": {
          "base_uri": "https://localhost:8080/"
        },
        "id": "QS2TyPN7lQYQ",
        "outputId": "5835c286-e461-4004-e6f9-3e9c7e1827aa"
      },
      "execution_count": 62,
      "outputs": [
        {
          "output_type": "stream",
          "name": "stdout",
          "text": [
            "\n",
            "        AUC ROC:  0.6976289414676271\n",
            "\n",
            "        AUC Precision-Recall: 0.7019396473810666\n"
          ]
        }
      ]
    },
    {
      "cell_type": "markdown",
      "source": [
        "CONCLUSIONES"
      ],
      "metadata": {
        "id": "boQPlKX4mrbg"
      }
    },
    {
      "cell_type": "markdown",
      "source": [
        "### 4.1.4 Conclusiones finales"
      ],
      "metadata": {
        "id": "IlPJ6OwfnAzC"
      }
    },
    {
      "cell_type": "markdown",
      "source": [
        "CONCLUSIONES"
      ],
      "metadata": {
        "id": "7mW2iWZanCrO"
      }
    },
    {
      "cell_type": "markdown",
      "source": [
        "## 4.2 Random Forest"
      ],
      "metadata": {
        "id": "7CdtpZv-mtnH"
      }
    },
    {
      "cell_type": "markdown",
      "source": [
        "### 4.2.1 Entrenamiento y feature_importance"
      ],
      "metadata": {
        "id": "U-GodaGtmyBY"
      }
    },
    {
      "cell_type": "markdown",
      "source": [
        "CONCLUSIONES"
      ],
      "metadata": {
        "id": "HCNwKxjQm2cP"
      }
    },
    {
      "cell_type": "markdown",
      "source": [
        "### 4.2.2 Matriz de confusión"
      ],
      "metadata": {
        "id": "QypoF-nUm34f"
      }
    },
    {
      "cell_type": "markdown",
      "source": [
        "CONCLUSIONES"
      ],
      "metadata": {
        "id": "Mr4qcveUm6A2"
      }
    },
    {
      "cell_type": "markdown",
      "source": [
        "### 4.2.3 AUC ROC y Precision-Recall"
      ],
      "metadata": {
        "id": "CiyJF9JGm60X"
      }
    },
    {
      "cell_type": "markdown",
      "source": [
        "CONCLUSIONES"
      ],
      "metadata": {
        "id": "j24qYM58m9Q8"
      }
    },
    {
      "cell_type": "markdown",
      "source": [
        "### 4.2.4 Conclusiones finales"
      ],
      "metadata": {
        "id": "_s-an3HenERB"
      }
    },
    {
      "cell_type": "markdown",
      "source": [
        "Conclusiones"
      ],
      "metadata": {
        "id": "_Qxq_1sdnGV1"
      }
    },
    {
      "cell_type": "markdown",
      "source": [
        "## 4.3 GBTClassifier"
      ],
      "metadata": {
        "id": "NjfuUrC5nHOh"
      }
    },
    {
      "cell_type": "markdown",
      "source": [
        "### 4.3.1 Entrenamiento y feature_importance"
      ],
      "metadata": {
        "id": "xznBdKTWnJpG"
      }
    },
    {
      "cell_type": "markdown",
      "source": [
        "CONCLUSIONES"
      ],
      "metadata": {
        "id": "2CDPYGZnnM2K"
      }
    },
    {
      "cell_type": "markdown",
      "source": [
        "### 4.3.2 Matriz de confusión"
      ],
      "metadata": {
        "id": "6rZhgdminNoD"
      }
    },
    {
      "cell_type": "markdown",
      "source": [
        "CONCLUSIONES"
      ],
      "metadata": {
        "id": "N9dU-e-WnPlj"
      }
    },
    {
      "cell_type": "markdown",
      "source": [
        "### 4.3.3 AUC ROC y Precision-Recall"
      ],
      "metadata": {
        "id": "r0ge46z5nQrZ"
      }
    },
    {
      "cell_type": "markdown",
      "source": [
        "CONCLUSIONES"
      ],
      "metadata": {
        "id": "5typF2NJnTTL"
      }
    },
    {
      "cell_type": "markdown",
      "source": [
        "### 4.3.4 Conclusiones finales"
      ],
      "metadata": {
        "id": "EbzhTUSZnUD8"
      }
    },
    {
      "cell_type": "markdown",
      "source": [
        "CONCLUSIONES"
      ],
      "metadata": {
        "id": "BQt6B9wbnWdf"
      }
    },
    {
      "cell_type": "markdown",
      "source": [
        "## 4.4 Comparativa modelos"
      ],
      "metadata": {
        "id": "L8TN5H98nXQ-"
      }
    },
    {
      "cell_type": "markdown",
      "source": [
        "CONCLUSIONES"
      ],
      "metadata": {
        "id": "mRRXMT-LndbQ"
      }
    },
    {
      "cell_type": "markdown",
      "source": [
        "# 4.5 Fine Tuning"
      ],
      "metadata": {
        "id": "NzGy8UrnnfQ1"
      }
    }
  ]
}